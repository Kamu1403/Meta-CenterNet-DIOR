{
 "cells": [
  {
   "cell_type": "code",
   "execution_count": 7,
   "id": "5a9c0ab5",
   "metadata": {},
   "outputs": [
    {
     "name": "stdout",
     "output_type": "stream",
     "text": [
      "load checkpoint from http path: https://download.openmmlab.com/mmfewshot/detection/attention_rpn/coco/attention-rpn_r50_c4_4xb2_coco_base-training_20211102_003348-da28cdfd.pth\n",
      "/root/github/open-mmlab/mmdetection-2.24.1/mmdet/datasets/utils.py:70: UserWarning: \"ImageToTensor\" pipeline is replaced by \"DefaultFormatBundle\" for batch inference. It is recommended to manually replace it in the test data pipeline in your config file.\n",
      "  'data pipeline in your config file.', UserWarning)\n",
      "Figure(500.01x337.01)\n"
     ]
    }
   ],
   "source": [
    "!python demo/demo_attention_rpn_detector_inference.py \\\n",
    "    demo/demo_detection_images/query_images/demo_query.jpg \\\n",
    "    configs/detection/attention_rpn/coco/attention-rpn_r50_c4_4xb2_coco_base-training.py \\\n",
    "    https://download.openmmlab.com/mmfewshot/detection/attention_rpn/coco/attention-rpn_r50_c4_4xb2_coco_base-training_20211102_003348-da28cdfd.pth \\\n",
    "    --support-images-dir demo/demo_detection_images/support_images"
   ]
  },
  {
   "cell_type": "code",
   "execution_count": null,
   "id": "b3bee404",
   "metadata": {},
   "outputs": [],
   "source": []
  }
 ],
 "metadata": {
  "kernelspec": {
   "display_name": "Python [conda env:openmmlab]",
   "language": "python",
   "name": "openmmlab"
  },
  "language_info": {
   "codemirror_mode": {
    "name": "ipython",
    "version": 3
   },
   "file_extension": ".py",
   "mimetype": "text/x-python",
   "name": "python",
   "nbconvert_exporter": "python",
   "pygments_lexer": "ipython3",
   "version": "3.7.12"
  }
 },
 "nbformat": 4,
 "nbformat_minor": 5
}
